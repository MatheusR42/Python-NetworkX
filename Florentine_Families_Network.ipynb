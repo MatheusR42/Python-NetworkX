{
  "nbformat": 4,
  "nbformat_minor": 0,
  "metadata": {
    "colab": {
      "name": "Florentine Families Network.ipynb",
      "provenance": [],
      "authorship_tag": "ABX9TyMlfMnJ2pphrV3AgobjrXte",
      "include_colab_link": true
    },
    "kernelspec": {
      "name": "python3",
      "display_name": "Python 3"
    }
  },
  "cells": [
    {
      "cell_type": "markdown",
      "metadata": {
        "id": "view-in-github",
        "colab_type": "text"
      },
      "source": [
        "<a href=\"https://colab.research.google.com/github/MatheusR42/Python-NetworkX/blob/main/Florentine_Families_Network.ipynb\" target=\"_parent\"><img src=\"https://colab.research.google.com/assets/colab-badge.svg\" alt=\"Open In Colab\"/></a>"
      ]
    },
    {
      "cell_type": "markdown",
      "metadata": {
        "id": "QX94mjOOb4xj"
      },
      "source": [
        "# Florentine Families Network\n",
        "\n",
        "---\n",
        "\n"
      ]
    },
    {
      "cell_type": "markdown",
      "metadata": {
        "id": "JnCRz-aQcFei"
      },
      "source": [
        "## Importing libs"
      ]
    },
    {
      "cell_type": "code",
      "metadata": {
        "id": "oXEQ4VRjbRkK"
      },
      "source": [
        "import networkx as nx\n",
        "import matplotlib.pyplot as plt"
      ],
      "execution_count": 1,
      "outputs": []
    },
    {
      "cell_type": "markdown",
      "metadata": {
        "id": "5krz8ayXcOLx"
      },
      "source": [
        "## Database"
      ]
    },
    {
      "cell_type": "code",
      "metadata": {
        "id": "Zkaiar6Mbq_H"
      },
      "source": [
        "data = [\n",
        "    (1, {\n",
        "      \"name\": \"Lamberteschi\",\n",
        "      \"color\": \"blue\",\n",
        "      \"edges\": [3]\n",
        "    }),\n",
        "    (2, {\n",
        "      \"name\": \"Ginori\",\n",
        "      \"color\": \"blue\",\n",
        "      \"edges\": [4]\n",
        "    }),\n",
        "    (3, {\n",
        "      \"name\": \"Guadagni\",\n",
        "      \"color\": \"blue\",\n",
        "      \"edges\": [5,4,10]\n",
        "    }),\n",
        "    (4, {\n",
        "      \"name\": \"Albizzi\",\n",
        "      \"color\": \"blue\",\n",
        "      \"edges\": [2,3,12]\n",
        "    }),\n",
        "    (5, {\n",
        "      \"name\": \"Bischeri\",\n",
        "      \"color\": \"green\",\n",
        "      \"edges\": [3,6,9]\n",
        "    }),\n",
        "    (6, {\n",
        "      \"name\": \"Peruzzi\",\n",
        "      \"color\": \"green\",\n",
        "      \"edges\": [5,7,9]\n",
        "    }),\n",
        "    (7, {\n",
        "      \"name\": \"Castellani\",\n",
        "      \"color\": \"green\",\n",
        "      \"edges\": [6,8,9]\n",
        "    }),\n",
        "    (8, {\n",
        "      \"name\": \"Barbadori\",\n",
        "      \"color\": \"green\",\n",
        "      \"edges\": [7,12]\n",
        "    }),\n",
        "    (9, {\n",
        "      \"name\": \"Strozzi\",\n",
        "      \"color\": \"green\",\n",
        "      \"edges\": [5,6,7,11]\n",
        "    }),\n",
        "    (10, {\n",
        "      \"name\": \"Tornabuoni\",\n",
        "      \"color\": \"purple\",\n",
        "      \"edges\": [3, 11, 12]\n",
        "    }),\n",
        "    (11, {\n",
        "      \"name\": \"Ridolfi\",\n",
        "      \"color\": \"purple\",\n",
        "      \"edges\": [9,10,12]\n",
        "    }),\n",
        "    (12, {\n",
        "      \"name\": \"Medici\",\n",
        "      \"color\": \"purple\",\n",
        "      \"edges\": [4,8,10,11,13,14]\n",
        "    }),\n",
        "    (13, {\n",
        "      \"name\": \"Acciaiuoli\",\n",
        "      \"color\": \"purple\",\n",
        "      \"edges\": [12]\n",
        "    }),\n",
        "    (14, {\n",
        "      \"name\": \"Salviati\",\n",
        "      \"color\": \"purple\",\n",
        "      \"edges\": [12,15]\n",
        "    }),\n",
        "    (15, {\n",
        "      \"name\": \"Pazzi\",\n",
        "      \"color\": \"purple\",\n",
        "      \"edges\": [14]\n",
        "    }),\n",
        "    (16, {\n",
        "      \"name\": \"Pucci\",\n",
        "      \"color\": \"red\",\n",
        "      \"edges\": []\n",
        "    }),\n",
        "]"
      ],
      "execution_count": 34,
      "outputs": []
    },
    {
      "cell_type": "markdown",
      "metadata": {
        "id": "E0RzqG6_cI4e"
      },
      "source": [
        "## Helper functions"
      ]
    },
    {
      "cell_type": "code",
      "metadata": {
        "id": "_lBT5uX0bun5"
      },
      "source": [
        "\n",
        "def getEdges():\n",
        "  edges = []\n",
        "  for node in data:\n",
        "    for edge in node[1][\"edges\"]:\n",
        "      print((node[0], edge))\n",
        "      edges.append((node[0], edge))\n",
        "  \n",
        "  return edges\n",
        "\n",
        "def getLabels():\n",
        "  dic = {}\n",
        "  for node in data:\n",
        "    dic[node[0]] = node[1][\"name\"]\n",
        "  \n",
        "  return dic\n",
        "\n",
        "def getColors():\n",
        "  return list(map(lambda node: node[1][\"color\"], data))"
      ],
      "execution_count": 35,
      "outputs": []
    },
    {
      "cell_type": "markdown",
      "metadata": {
        "id": "6etRKRo8cblV"
      },
      "source": [
        "## Creating network graph"
      ]
    },
    {
      "cell_type": "code",
      "metadata": {
        "id": "fM95p7Kecfoq"
      },
      "source": [
        "%%capture\n",
        "G = nx.Graph()\n",
        "G.add_nodes_from(data)\n",
        "G.add_edges_from(getEdges())"
      ],
      "execution_count": 36,
      "outputs": []
    },
    {
      "cell_type": "markdown",
      "metadata": {
        "id": "acEsLK-ocSVa"
      },
      "source": [
        "## Adjacency Matrix"
      ]
    },
    {
      "cell_type": "code",
      "metadata": {
        "id": "BMkbjXIOcZ-1",
        "outputId": "3d586e3f-203f-4370-ca69-0964a81003f9",
        "colab": {
          "base_uri": "https://localhost:8080/",
          "height": 311
        }
      },
      "source": [
        "nx.to_numpy_matrix(G)"
      ],
      "execution_count": 37,
      "outputs": [
        {
          "output_type": "execute_result",
          "data": {
            "text/plain": [
              "matrix([[0., 0., 1., 0., 0., 0., 0., 0., 0., 0., 0., 0., 0., 0., 0., 0.],\n",
              "        [0., 0., 0., 1., 0., 0., 0., 0., 0., 0., 0., 0., 0., 0., 0., 0.],\n",
              "        [1., 0., 0., 1., 1., 0., 0., 0., 0., 1., 0., 0., 0., 0., 0., 0.],\n",
              "        [0., 1., 1., 0., 0., 0., 0., 0., 0., 0., 0., 1., 0., 0., 0., 0.],\n",
              "        [0., 0., 1., 0., 0., 1., 0., 0., 1., 0., 0., 0., 0., 0., 0., 0.],\n",
              "        [0., 0., 0., 0., 1., 0., 1., 0., 1., 0., 0., 0., 0., 0., 0., 0.],\n",
              "        [0., 0., 0., 0., 0., 1., 0., 1., 1., 0., 0., 0., 0., 0., 0., 0.],\n",
              "        [0., 0., 0., 0., 0., 0., 1., 0., 0., 0., 0., 1., 0., 0., 0., 0.],\n",
              "        [0., 0., 0., 0., 1., 1., 1., 0., 0., 0., 1., 0., 0., 0., 0., 0.],\n",
              "        [0., 0., 1., 0., 0., 0., 0., 0., 0., 0., 1., 1., 0., 0., 0., 0.],\n",
              "        [0., 0., 0., 0., 0., 0., 0., 0., 1., 1., 0., 1., 0., 0., 0., 0.],\n",
              "        [0., 0., 0., 1., 0., 0., 0., 1., 0., 1., 1., 0., 1., 1., 0., 0.],\n",
              "        [0., 0., 0., 0., 0., 0., 0., 0., 0., 0., 0., 1., 0., 0., 0., 0.],\n",
              "        [0., 0., 0., 0., 0., 0., 0., 0., 0., 0., 0., 1., 0., 0., 1., 0.],\n",
              "        [0., 0., 0., 0., 0., 0., 0., 0., 0., 0., 0., 0., 0., 1., 0., 0.],\n",
              "        [0., 0., 0., 0., 0., 0., 0., 0., 0., 0., 0., 0., 0., 0., 0., 0.]])"
            ]
          },
          "metadata": {
            "tags": []
          },
          "execution_count": 37
        }
      ]
    },
    {
      "cell_type": "markdown",
      "metadata": {
        "id": "GAr_N4bR-y5S"
      },
      "source": [
        "## Average Shortest Path"
      ]
    },
    {
      "cell_type": "code",
      "metadata": {
        "id": "Squjn9dy-6ke",
        "outputId": "61a5df20-3b9b-4832-8ac1-e4cdd492b717",
        "colab": {
          "base_uri": "https://localhost:8080/",
          "height": 35
        }
      },
      "source": [
        "H = G.copy()\n",
        "H.remove_nodes_from(list(nx.isolates(H)))\n",
        "nx.average_shortest_path_length(H)"
      ],
      "execution_count": 38,
      "outputs": [
        {
          "output_type": "execute_result",
          "data": {
            "text/plain": [
              "2.4857142857142858"
            ]
          },
          "metadata": {
            "tags": []
          },
          "execution_count": 38
        }
      ]
    },
    {
      "cell_type": "markdown",
      "metadata": {
        "id": "hlz_GodIHBb7"
      },
      "source": [
        "## Diameter"
      ]
    },
    {
      "cell_type": "code",
      "metadata": {
        "id": "0dkHXMFdHD1i",
        "outputId": "84e8313c-e449-4aa8-cc3e-b07358c76412",
        "colab": {
          "base_uri": "https://localhost:8080/",
          "height": 35
        }
      },
      "source": [
        "nx.diameter(H)"
      ],
      "execution_count": 41,
      "outputs": [
        {
          "output_type": "execute_result",
          "data": {
            "text/plain": [
              "5"
            ]
          },
          "metadata": {
            "tags": []
          },
          "execution_count": 41
        }
      ]
    },
    {
      "cell_type": "markdown",
      "metadata": {
        "id": "QqnaCDFmcvLj"
      },
      "source": [
        "## Plot"
      ]
    },
    {
      "cell_type": "code",
      "metadata": {
        "id": "gndt_NB7cxD4",
        "outputId": "a3c9edd1-7fbe-4d1d-de1e-b8006b2dc24b",
        "colab": {
          "base_uri": "https://localhost:8080/",
          "height": 319
        }
      },
      "source": [
        "labeldict = getLabels()\n",
        "colors = getColors()\n",
        "nx.draw(G, with_labels=True, labels=labeldict, node_color=colors)\n",
        "plt.show()"
      ],
      "execution_count": 39,
      "outputs": [
        {
          "output_type": "display_data",
          "data": {
            "image/png": "[encoded data removed]",
            "text/plain": [
              "<Figure size 432x288 with 1 Axes>"
            ]
          },
          "metadata": {
            "tags": []
          }
        }
      ]
    }
  ]
}