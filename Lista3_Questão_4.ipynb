{
  "nbformat": 4,
  "nbformat_minor": 0,
  "metadata": {
    "colab": {
      "name": "Lista3 Questão 4.ipynb",
      "provenance": [],
      "authorship_tag": "ABX9TyOFpAE1Vf93JhBd9opRmlJk",
      "include_colab_link": true
    },
    "kernelspec": {
      "name": "python3",
      "display_name": "Python 3"
    }
  },
  "cells": [
    {
      "cell_type": "markdown",
      "metadata": {
        "id": "view-in-github",
        "colab_type": "text"
      },
      "source": [
        "<a href=\"https://colab.research.google.com/github/MatheusR42/Python-NetworkX/blob/main/Lista3_Quest%C3%A3o_4.ipynb\" target=\"_parent\"><img src=\"https://colab.research.google.com/assets/colab-badge.svg\" alt=\"Open In Colab\"/></a>"
      ]
    },
    {
      "cell_type": "markdown",
      "metadata": {
        "id": "QX94mjOOb4xj"
      },
      "source": [
        "# Lista 3 Questão 4\n",
        "\n",
        "---\n"
      ]
    },
    {
      "cell_type": "markdown",
      "metadata": {
        "id": "JnCRz-aQcFei"
      },
      "source": [
        "## Importing libs"
      ]
    },
    {
      "cell_type": "code",
      "metadata": {
        "id": "oXEQ4VRjbRkK"
      },
      "source": [
        "import networkx as nx\n",
        "import matplotlib.pyplot as plt"
      ],
      "execution_count": 2,
      "outputs": []
    },
    {
      "cell_type": "markdown",
      "metadata": {
        "id": "5krz8ayXcOLx"
      },
      "source": [
        "## Database"
      ]
    },
    {
      "cell_type": "code",
      "metadata": {
        "id": "Zkaiar6Mbq_H"
      },
      "source": [
        "graphsData = [\n",
        "  {\n",
        "    \"nodes\": [1,2,3],\n",
        "    \"edges\": [(1,2), (2,3)]\n",
        "  },\n",
        "  {\n",
        "    \"nodes\": [1,2,3,4],\n",
        "    \"edges\": [(1,2), (2,3), (2,4), (3,4)]\n",
        "  },\n",
        "  {\n",
        "    \"nodes\": [1,2,3,4,5],\n",
        "    \"edges\": [(1,2), (2,3), (2,4), (3,5), (3,4), (4,5)]\n",
        "  },\n",
        "  {\n",
        "    \"nodes\": [1,2,3,4, 5, 6],\n",
        "    \"edges\": [(1,2),(1,4),(2,3),(2,5), (2,6),(3,5),(4,5),(4,6)]\n",
        "  },\n",
        "  {\n",
        "    \"nodes\": [1,2,3,4, 5, 6, 7],\n",
        "    \"edges\": [(1,2),(1,3),(2,3),(3,4),(3,5),(3,6),(4,5),(4,6),(5,7),(6,7)]\n",
        "  },\n",
        "]"
      ],
      "execution_count": 1,
      "outputs": []
    },
    {
      "cell_type": "markdown",
      "metadata": {
        "id": "E0RzqG6_cI4e"
      },
      "source": [
        "## Plot"
      ]
    },
    {
      "cell_type": "code",
      "metadata": {
        "id": "_lBT5uX0bun5",
        "outputId": "0eaa4090-c2f5-4bd7-ebf4-8ad418260ed9",
        "colab": {
          "base_uri": "https://localhost:8080/",
          "height": 466
        }
      },
      "source": [
        "fig, axes = plt.subplots(nrows=2, ncols=3, figsize=(8,8))\n",
        "ax = axes.flatten()\n",
        "\n",
        "graphs = []\n",
        "\n",
        "for i, graph in enumerate(graphsData):\n",
        "  graphs.append(nx.Graph())\n",
        "  graphs[i].add_nodes_from(graph[\"nodes\"])\n",
        "  graphs[i].add_edges_from(graph[\"edges\"])\n",
        "  nx.draw_networkx(graphs[i], ax=ax[i])\n",
        "  ax[i].set_axis_off()\n",
        "\n",
        "ax[5].set_axis_off()\n",
        "\n",
        "plt.show()"
      ],
      "execution_count": 16,
      "outputs": [
        {
          "output_type": "display_data",
          "data": {
            "image/png": "[encoded data removed]",
            "text/plain": [
              "<Figure size 576x576 with 6 Axes>"
            ]
          },
          "metadata": {
            "tags": [],
            "needs_background": "light"
          }
        }
      ]
    },
    {
      "cell_type": "markdown",
      "metadata": {
        "id": "GAr_N4bR-y5S"
      },
      "source": [
        "## Information"
      ]
    },
    {
      "cell_type": "code",
      "metadata": {
        "id": "Squjn9dy-6ke",
        "outputId": "b2d3f0bd-ce21-4cd8-fbc3-2294fc49090c",
        "colab": {
          "base_uri": "https://localhost:8080/",
          "height": 451
        }
      },
      "source": [
        "for i, G in enumerate(graphs, 1):\n",
        "  print(\"Grafo: \", i)\n",
        "  print(\"Ordem: \", nx.number_of_nodes(G))\n",
        "  print(\"Distância média: \", nx.average_shortest_path_length(G))\n",
        "  print(\"Diâmetro: \", nx.diameter(G))\n",
        "  print(\"\")"
      ],
      "execution_count": 17,
      "outputs": [
        {
          "output_type": "stream",
          "text": [
            "Grafo:  1\n",
            "Ordem:  3\n",
            "Distância média:  1.3333333333333333\n",
            "Diâmetro:  2\n",
            "\n",
            "Grafo:  2\n",
            "Ordem:  4\n",
            "Distância média:  1.3333333333333333\n",
            "Diâmetro:  2\n",
            "\n",
            "Grafo:  3\n",
            "Ordem:  5\n",
            "Distância média:  1.5\n",
            "Diâmetro:  3\n",
            "\n",
            "Grafo:  4\n",
            "Ordem:  6\n",
            "Distância média:  1.4666666666666666\n",
            "Diâmetro:  2\n",
            "\n",
            "Grafo:  5\n",
            "Ordem:  7\n",
            "Distância média:  1.619047619047619\n",
            "Diâmetro:  3\n",
            "\n"
          ],
          "name": "stdout"
        }
      ]
    }
  ]
}